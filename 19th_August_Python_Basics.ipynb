{
  "nbformat": 4,
  "nbformat_minor": 0,
  "metadata": {
    "colab": {
      "provenance": []
    },
    "kernelspec": {
      "name": "python3",
      "display_name": "Python 3"
    },
    "language_info": {
      "name": "python"
    }
  },
  "cells": [
    {
      "cell_type": "markdown",
      "source": [
        "**TOPIC: Python Basics Variable**"
      ],
      "metadata": {
        "id": "ZQb3XLBwUcAR"
      }
    },
    {
      "cell_type": "markdown",
      "source": [
        "1. Declare two variables, `x` and `y`, and assign them integer values. Swap the\n",
        "values of these variables without using any temporary variable."
      ],
      "metadata": {
        "id": "9-2Yi2a7UhNn"
      }
    },
    {
      "cell_type": "code",
      "source": [
        "num1=int(input(\"enter the first number :\"))\n",
        "num2=int(input(\"enter second number :\"))\n",
        "\n",
        "# before swapping\n",
        "print(\"num 1 =\",num1)\n",
        "print(\"num 2 =\",num2)\n",
        "\n",
        "num1,num2=num2,num1\n",
        "\n",
        "# after swapping\n",
        "\n",
        "print(\"num 1 after swapping =\",num1)\n",
        "print(\"num 2 after swapping =\",num2)"
      ],
      "metadata": {
        "colab": {
          "base_uri": "https://localhost:8080/"
        },
        "id": "lu-P9jpAUjDx",
        "outputId": "2ff7d1d5-468d-4bc3-b19c-0ce2b92adf49"
      },
      "execution_count": 2,
      "outputs": [
        {
          "output_type": "stream",
          "name": "stdout",
          "text": [
            "enter the first number :56\n",
            "enter second number :85\n",
            "num 1 = 56\n",
            "num 2 = 85\n",
            "num 1 after swapping = 85\n",
            "num 2 after swapping = 56\n"
          ]
        }
      ]
    },
    {
      "cell_type": "markdown",
      "source": [
        "2. Create a program that calculates the area of a rectangle. Take the length and\n",
        "width as inputs from the user and store them in variables. Calculate and\n",
        "display the area."
      ],
      "metadata": {
        "id": "6K0gW_inVUMR"
      }
    },
    {
      "cell_type": "code",
      "source": [
        "# take inputs fom user\n",
        "length=int(input(\"enter the length of the reactangle:\"))\n",
        "width=int(input(\"enter the breadth of the reactangle:\"))\n",
        "\n",
        "# calcualte the area of the rectangle\n",
        "area=length*width\n",
        "\n",
        "print(\"The area of the rectangle is \",area)"
      ],
      "metadata": {
        "colab": {
          "base_uri": "https://localhost:8080/"
        },
        "id": "AV20cTBGVTeN",
        "outputId": "2d15cc6a-2f0b-40fa-a1f1-cd161402206c"
      },
      "execution_count": 3,
      "outputs": [
        {
          "output_type": "stream",
          "name": "stdout",
          "text": [
            "enter the length of the reactangle:5\n",
            "enter the breadth of the reactangle:6\n",
            "The area of the rectangle is  30\n"
          ]
        }
      ]
    },
    {
      "cell_type": "markdown",
      "source": [
        "3. Write a Python program that converts temperatures from Celsius to\n",
        "Fahrenheit. Take the temperature in Celsius as input, store it in a variable,\n",
        "convert it to Fahrenheit, and display the result."
      ],
      "metadata": {
        "id": "1Y-nPAc6V2pG"
      }
    },
    {
      "cell_type": "code",
      "source": [
        "# take the temerature in celsius as input from the user\n",
        "temp=float(input(\"enter the temperature in celsius:\"))\n",
        "\n",
        "# convert celsius to Fahrenheit\n",
        "fahrenheit=(temp*9/5)+32\n",
        "\n",
        "print(\"The temperature in Fahrenheit is \",fahrenheit)"
      ],
      "metadata": {
        "colab": {
          "base_uri": "https://localhost:8080/"
        },
        "id": "JSNwvn2cV34g",
        "outputId": "e743d37b-c1e3-4e5f-f019-22e80fc1bf31"
      },
      "execution_count": 4,
      "outputs": [
        {
          "output_type": "stream",
          "name": "stdout",
          "text": [
            "enter the temperature in celsius:5.6\n",
            "The temperature in Fahrenheit is  42.08\n"
          ]
        }
      ]
    },
    {
      "cell_type": "markdown",
      "source": [
        "**TOPIC: String Based Questions**"
      ],
      "metadata": {
        "id": "hnZ7DkDJWT_v"
      }
    },
    {
      "cell_type": "markdown",
      "source": [
        "1. Write a Python program that takes a string as input and prints the length of\n",
        "the string."
      ],
      "metadata": {
        "id": "xVGIsE67WZMz"
      }
    },
    {
      "cell_type": "code",
      "source": [
        "# take string as input\n",
        "string=input(\"Enter the string :\")\n",
        "\n",
        "# print length of the string\n",
        "print(\"the length of your string is :\",len(string))"
      ],
      "metadata": {
        "colab": {
          "base_uri": "https://localhost:8080/"
        },
        "id": "A-0XRh1xWbRP",
        "outputId": "a590d9b0-9df0-4a39-f088-398d99f836d4"
      },
      "execution_count": 5,
      "outputs": [
        {
          "output_type": "stream",
          "name": "stdout",
          "text": [
            "Enter the string :sakshi\n",
            "the length of your string is : 6\n"
          ]
        }
      ]
    },
    {
      "cell_type": "markdown",
      "source": [
        "2. Create a program that takes a sentence from the user and counts the number\n",
        "of vowels (a, e, i, o, u) in the string."
      ],
      "metadata": {
        "id": "5eubU31nWv_A"
      }
    },
    {
      "cell_type": "code",
      "source": [
        "# take sentence from the user\n",
        "string=input(\"enter the string :\")\n",
        "\n",
        "# count the vowels from it\n",
        "count=0\n",
        "for char in string:\n",
        "  if char in 'aeiouAEIOU':\n",
        "    count +=1\n",
        "print(\"the number of vowels in the string is :\",count)"
      ],
      "metadata": {
        "colab": {
          "base_uri": "https://localhost:8080/"
        },
        "id": "hAiaDReIWyrO",
        "outputId": "017cc1b4-d8e1-4fd4-c7d4-5d82652d3a0d"
      },
      "execution_count": 6,
      "outputs": [
        {
          "output_type": "stream",
          "name": "stdout",
          "text": [
            "enter the string :my name is sakshi\n",
            "the number of vowels in the string is : 5\n"
          ]
        }
      ]
    },
    {
      "cell_type": "markdown",
      "source": [
        "3. Given a string, reverse the order of characters using string slicing and print\n",
        "the reversed string."
      ],
      "metadata": {
        "id": "BbsxWR-hYOFb"
      }
    },
    {
      "cell_type": "code",
      "source": [
        "# take string input from the user\n",
        "string=input(\"Enter the string :\")\n",
        "\n",
        "# after reversing\n",
        "print(\"the reversed string is \",string[::-1])"
      ],
      "metadata": {
        "colab": {
          "base_uri": "https://localhost:8080/"
        },
        "id": "KKEq6TlLYPSS",
        "outputId": "253b37ac-258f-4d71-fc93-5ccfc2001347"
      },
      "execution_count": 8,
      "outputs": [
        {
          "output_type": "stream",
          "name": "stdout",
          "text": [
            "Enter the string :sakhsi\n",
            "the reversed string is  ishkas\n"
          ]
        }
      ]
    },
    {
      "cell_type": "markdown",
      "source": [
        "4. Write a program that takes a string as input and checks if it is a palindrome\n",
        "(reads the same forwards and backwards)."
      ],
      "metadata": {
        "id": "QTJuE69KYmUA"
      }
    },
    {
      "cell_type": "code",
      "source": [
        "# take string input from the user\n",
        "string=input(\"Enter the string :\")\n",
        "\n",
        "# check if the string is plaindrome or not\n",
        "if string==string[::-1]:\n",
        "  print(\"the string is palindrome\")\n",
        "else:\n",
        "  print(\"The string is not plaindrome\")"
      ],
      "metadata": {
        "colab": {
          "base_uri": "https://localhost:8080/"
        },
        "id": "dl_s6fzoYojF",
        "outputId": "b0c249a7-fd3a-4145-e97c-28cf44084b0d"
      },
      "execution_count": 10,
      "outputs": [
        {
          "output_type": "stream",
          "name": "stdout",
          "text": [
            "Enter the string :naman\n",
            "the string is palindrome\n"
          ]
        }
      ]
    },
    {
      "cell_type": "markdown",
      "source": [
        "5. Create a program that takes a string as input and removes all the spaces from\n",
        "it. Print the modified string without spaces."
      ],
      "metadata": {
        "id": "fDiBpQBDZDNS"
      }
    },
    {
      "cell_type": "code",
      "source": [
        "# Take string input from the user\n",
        "string=input(\"enter the string:\")\n",
        "\n",
        "# after removing the spaces\n",
        "print(\"The modified string is :\",string.replace(\" \",\"\"))"
      ],
      "metadata": {
        "colab": {
          "base_uri": "https://localhost:8080/"
        },
        "id": "o_OlUMjnZEQC",
        "outputId": "edf2ce2e-7b68-4797-81fd-864b465448e7"
      },
      "execution_count": 11,
      "outputs": [
        {
          "output_type": "stream",
          "name": "stdout",
          "text": [
            "enter the string:my name is sakshi\n",
            "The modified string is : mynameissakshi\n"
          ]
        }
      ]
    }
  ]
}